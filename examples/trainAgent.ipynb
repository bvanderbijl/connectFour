{
 "cells": [
  {
   "cell_type": "code",
   "execution_count": 25,
   "metadata": {},
   "outputs": [],
   "source": [
    "import tensorflow as tf\n",
    "from tensorflow import keras\n",
    "import numpy as np\n",
    "\n",
    "from connect4 import *\n",
    "\n",
    "from keras import __version__\n",
    "tf.keras.__version__ = __version__"
   ]
  },
  {
   "cell_type": "code",
   "execution_count": 34,
   "metadata": {},
   "outputs": [],
   "source": [
    "env = ConnectFourGymEnv()\n",
    "\n",
    "states = len(env.observation_space.flatten())\n",
    "actions = len(env.action_space)"
   ]
  },
  {
   "cell_type": "code",
   "execution_count": 37,
   "metadata": {},
   "outputs": [],
   "source": [
    "model = tf.keras.models.Sequential([\n",
    "    tf.keras.layers.Dense(32, activation='relu', input_shape=(states,)),\n",
    "    tf.keras.layers.Dense(32, activation='relu'),\n",
    "    tf.keras.layers.Dense(actions, activation='softmax')\n",
    "])"
   ]
  },
  {
   "cell_type": "code",
   "execution_count": 39,
   "metadata": {},
   "outputs": [
    {
     "name": "stdout",
     "output_type": "stream",
     "text": [
      "Model: \"sequential_2\"\n",
      "_________________________________________________________________\n",
      " Layer (type)                Output Shape              Param #   \n",
      "=================================================================\n",
      " dense_6 (Dense)             (None, 32)                1376      \n",
      "                                                                 \n",
      " dense_7 (Dense)             (None, 32)                1056      \n",
      "                                                                 \n",
      " dense_8 (Dense)             (None, 7)                 231       \n",
      "                                                                 \n",
      "=================================================================\n",
      "Total params: 2663 (10.40 KB)\n",
      "Trainable params: 2663 (10.40 KB)\n",
      "Non-trainable params: 0 (0.00 Byte)\n",
      "_________________________________________________________________\n"
     ]
    }
   ],
   "source": [
    "model.summary()"
   ]
  },
  {
   "cell_type": "code",
   "execution_count": 33,
   "metadata": {},
   "outputs": [],
   "source": [
    "import numpy as np\n",
    "from tensorflow.keras.models import Sequential\n",
    "from tensorflow.keras.layers import Dense, Flatten\n",
    "from tensorflow.keras.optimizers import Adam\n",
    "\n",
    "from rl.agents import DQNAgent\n",
    "from rl.policy import BoltzmannQPolicy\n",
    "from rl.memory import SequentialMemory\n",
    "\n",
    "\n",
    "def build_agent(model, actions):\n",
    "    policy = BoltzmannQPolicy()\n",
    "    memory = SequentialMemory(limit=30, window_length=1)\n",
    "    \n",
    "    dqn = DQNAgent(\n",
    "        model=model, \n",
    "        memory = memory, \n",
    "        policy=policy, \n",
    "        nb_actions=actions,\n",
    "        gamma=.99\n",
    "    )\n",
    "    return dqn\n",
    "    "
   ]
  },
  {
   "cell_type": "code",
   "execution_count": 40,
   "metadata": {},
   "outputs": [
    {
     "ename": "AttributeError",
     "evalue": "'int' object has no attribute 'output'",
     "output_type": "error",
     "traceback": [
      "\u001b[0;31m---------------------------------------------------------------------------\u001b[0m",
      "\u001b[0;31mAttributeError\u001b[0m                            Traceback (most recent call last)",
      "\u001b[1;32m/Users/basvanderbijl/Library/Mobile Documents/com~apple~CloudDocs/DataGreen/projects/connect 4/connectFour/trainAgent.ipynb Cell 6\u001b[0m line \u001b[0;36m1\n\u001b[0;32m----> <a href='vscode-notebook-cell:/Users/basvanderbijl/Library/Mobile%20Documents/com~apple~CloudDocs/DataGreen/projects/connect%204/connectFour/trainAgent.ipynb#W5sZmlsZQ%3D%3D?line=0'>1</a>\u001b[0m model \u001b[39m=\u001b[39m build_agent(states, actions)\n\u001b[1;32m      <a href='vscode-notebook-cell:/Users/basvanderbijl/Library/Mobile%20Documents/com~apple~CloudDocs/DataGreen/projects/connect%204/connectFour/trainAgent.ipynb#W5sZmlsZQ%3D%3D?line=2'>3</a>\u001b[0m dqn \u001b[39m=\u001b[39m build_agent(model, actions)\n\u001b[1;32m      <a href='vscode-notebook-cell:/Users/basvanderbijl/Library/Mobile%20Documents/com~apple~CloudDocs/DataGreen/projects/connect%204/connectFour/trainAgent.ipynb#W5sZmlsZQ%3D%3D?line=3'>4</a>\u001b[0m dqn\u001b[39m.\u001b[39mcompile(Adam(lr\u001b[39m=\u001b[39m\u001b[39m1e-3\u001b[39m), metrics\u001b[39m=\u001b[39m[\u001b[39m'\u001b[39m\u001b[39mmse\u001b[39m\u001b[39m'\u001b[39m])\n",
      "\u001b[1;32m/Users/basvanderbijl/Library/Mobile Documents/com~apple~CloudDocs/DataGreen/projects/connect 4/connectFour/trainAgent.ipynb Cell 6\u001b[0m line \u001b[0;36m1\n\u001b[1;32m     <a href='vscode-notebook-cell:/Users/basvanderbijl/Library/Mobile%20Documents/com~apple~CloudDocs/DataGreen/projects/connect%204/connectFour/trainAgent.ipynb#W5sZmlsZQ%3D%3D?line=11'>12</a>\u001b[0m policy \u001b[39m=\u001b[39m BoltzmannQPolicy()\n\u001b[1;32m     <a href='vscode-notebook-cell:/Users/basvanderbijl/Library/Mobile%20Documents/com~apple~CloudDocs/DataGreen/projects/connect%204/connectFour/trainAgent.ipynb#W5sZmlsZQ%3D%3D?line=12'>13</a>\u001b[0m memory \u001b[39m=\u001b[39m SequentialMemory(limit\u001b[39m=\u001b[39m\u001b[39m30\u001b[39m, window_length\u001b[39m=\u001b[39m\u001b[39m1\u001b[39m)\n\u001b[0;32m---> <a href='vscode-notebook-cell:/Users/basvanderbijl/Library/Mobile%20Documents/com~apple~CloudDocs/DataGreen/projects/connect%204/connectFour/trainAgent.ipynb#W5sZmlsZQ%3D%3D?line=14'>15</a>\u001b[0m dqn \u001b[39m=\u001b[39m DQNAgent(\n\u001b[1;32m     <a href='vscode-notebook-cell:/Users/basvanderbijl/Library/Mobile%20Documents/com~apple~CloudDocs/DataGreen/projects/connect%204/connectFour/trainAgent.ipynb#W5sZmlsZQ%3D%3D?line=15'>16</a>\u001b[0m     model\u001b[39m=\u001b[39;49mmodel, \n\u001b[1;32m     <a href='vscode-notebook-cell:/Users/basvanderbijl/Library/Mobile%20Documents/com~apple~CloudDocs/DataGreen/projects/connect%204/connectFour/trainAgent.ipynb#W5sZmlsZQ%3D%3D?line=16'>17</a>\u001b[0m     memory \u001b[39m=\u001b[39;49m memory, \n\u001b[1;32m     <a href='vscode-notebook-cell:/Users/basvanderbijl/Library/Mobile%20Documents/com~apple~CloudDocs/DataGreen/projects/connect%204/connectFour/trainAgent.ipynb#W5sZmlsZQ%3D%3D?line=17'>18</a>\u001b[0m     policy\u001b[39m=\u001b[39;49mpolicy, \n\u001b[1;32m     <a href='vscode-notebook-cell:/Users/basvanderbijl/Library/Mobile%20Documents/com~apple~CloudDocs/DataGreen/projects/connect%204/connectFour/trainAgent.ipynb#W5sZmlsZQ%3D%3D?line=18'>19</a>\u001b[0m     nb_actions\u001b[39m=\u001b[39;49mactions,\n\u001b[1;32m     <a href='vscode-notebook-cell:/Users/basvanderbijl/Library/Mobile%20Documents/com~apple~CloudDocs/DataGreen/projects/connect%204/connectFour/trainAgent.ipynb#W5sZmlsZQ%3D%3D?line=19'>20</a>\u001b[0m     gamma\u001b[39m=\u001b[39;49m\u001b[39m.99\u001b[39;49m\n\u001b[1;32m     <a href='vscode-notebook-cell:/Users/basvanderbijl/Library/Mobile%20Documents/com~apple~CloudDocs/DataGreen/projects/connect%204/connectFour/trainAgent.ipynb#W5sZmlsZQ%3D%3D?line=20'>21</a>\u001b[0m )\n\u001b[1;32m     <a href='vscode-notebook-cell:/Users/basvanderbijl/Library/Mobile%20Documents/com~apple~CloudDocs/DataGreen/projects/connect%204/connectFour/trainAgent.ipynb#W5sZmlsZQ%3D%3D?line=21'>22</a>\u001b[0m \u001b[39mreturn\u001b[39;00m dqn\n",
      "File \u001b[0;32m~/Library/Mobile Documents/com~apple~CloudDocs/DataGreen/.venv/lib/python3.9/site-packages/rl/agents/dqn.py:106\u001b[0m, in \u001b[0;36mDQNAgent.__init__\u001b[0;34m(self, model, policy, test_policy, enable_double_dqn, enable_dueling_network, dueling_type, *args, **kwargs)\u001b[0m\n\u001b[1;32m    103\u001b[0m \u001b[39msuper\u001b[39m()\u001b[39m.\u001b[39m\u001b[39m__init__\u001b[39m(\u001b[39m*\u001b[39margs, \u001b[39m*\u001b[39m\u001b[39m*\u001b[39mkwargs)\n\u001b[1;32m    105\u001b[0m \u001b[39m# Validate (important) input.\u001b[39;00m\n\u001b[0;32m--> 106\u001b[0m \u001b[39mif\u001b[39;00m \u001b[39mlist\u001b[39m(model\u001b[39m.\u001b[39;49moutput\u001b[39m.\u001b[39mshape) \u001b[39m!=\u001b[39m \u001b[39mlist\u001b[39m((\u001b[39mNone\u001b[39;00m, \u001b[39mself\u001b[39m\u001b[39m.\u001b[39mnb_actions)):\n\u001b[1;32m    107\u001b[0m     \u001b[39mraise\u001b[39;00m \u001b[39mValueError\u001b[39;00m(\u001b[39mf\u001b[39m\u001b[39m'\u001b[39m\u001b[39mModel output \u001b[39m\u001b[39m\"\u001b[39m\u001b[39m{\u001b[39;00mmodel\u001b[39m.\u001b[39moutput\u001b[39m}\u001b[39;00m\u001b[39m\"\u001b[39m\u001b[39m has invalid shape. DQN expects a model that has one dimension for each action, in this case \u001b[39m\u001b[39m{\u001b[39;00m\u001b[39mself\u001b[39m\u001b[39m.\u001b[39mnb_actions\u001b[39m}\u001b[39;00m\u001b[39m.\u001b[39m\u001b[39m'\u001b[39m)\n\u001b[1;32m    109\u001b[0m \u001b[39m# Parameters.\u001b[39;00m\n",
      "\u001b[0;31mAttributeError\u001b[0m: 'int' object has no attribute 'output'"
     ]
    }
   ],
   "source": [
    "model = build_agent(states, actions)\n",
    "\n",
    "dqn = build_agent(model, actions)\n",
    "dqn.compile(Adam(lr=1e-3), metrics=['mse'])\n",
    "dqn.fit(env, nb_steps=100000, visualize=False, verbose=1)"
   ]
  },
  {
   "cell_type": "code",
   "execution_count": 30,
   "metadata": {},
   "outputs": [],
   "source": [
    "from keras import __version__\n",
    "tf.keras.__version__ = __version__"
   ]
  },
  {
   "cell_type": "code",
   "execution_count": null,
   "metadata": {},
   "outputs": [],
   "source": []
  }
 ],
 "metadata": {
  "kernelspec": {
   "display_name": "Python 3",
   "language": "python",
   "name": "python3"
  },
  "language_info": {
   "codemirror_mode": {
    "name": "ipython",
    "version": 3
   },
   "file_extension": ".py",
   "mimetype": "text/x-python",
   "name": "python",
   "nbconvert_exporter": "python",
   "pygments_lexer": "ipython3",
   "version": "3.9.6"
  },
  "orig_nbformat": 4
 },
 "nbformat": 4,
 "nbformat_minor": 2
}
